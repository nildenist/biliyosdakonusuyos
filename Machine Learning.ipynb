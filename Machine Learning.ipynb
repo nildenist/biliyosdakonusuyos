{
 "cells": [
  {
   "cell_type": "markdown",
   "metadata": {},
   "source": [
    "<div class=\"alert alert-danger alertdanger\" style=\"margin-top: 20px\">\n",
    "<h1> Question  #1: </h1>\n",
    "\n",
    "<b>How many types of learning are in ML? </b>\n",
    "</div>"
   ]
  },
  {
   "cell_type": "markdown",
   "metadata": {},
   "source": [
    "  <div align=\"right\">\n",
    "<a href=\"#q1\" class=\"btn btn-default\" data-toggle=\"collapse\">Click here for the solution</a>\n",
    "\n",
    "</div>\n",
    "<div id=\"q1\" class=\"collapse\">\n",
    "    \n",
    " |Types of Learning|Supervised|Unsupervised|Semi-supervised|Reinforcement Learning|\n",
    "    |-| -|-|-|-| \n",
    "    | **Dataset**| Collection of labaled examples|Collection of unlabeled examples|Collection of both labeled and unlabaled examples|-|\n",
    "    |**Goal** |To use the dataset to produce a model that takes a feature vector x as input and outputs information that allows deducing the label for this feature vector|To create a model that takes a feature vector x as input and either transforms it into another vector or into a value that can be used to solve a practical problem.|The same as the goal of the supervised learning, using many unlabeled examples can help the learning algorithm to find  or to produce a better model.|To learn a policy.|  \n",
    "    \n",
    "    \n",
    "</div>\n"
   ]
  },
  {
   "cell_type": "markdown",
   "metadata": {},
   "source": []
  },
  {
   "cell_type": "code",
   "execution_count": null,
   "metadata": {},
   "outputs": [],
   "source": []
  }
 ],
 "metadata": {
  "kernelspec": {
   "display_name": "Python 3",
   "language": "python",
   "name": "python3"
  },
  "language_info": {
   "codemirror_mode": {
    "name": "ipython",
    "version": 3
   },
   "file_extension": ".py",
   "mimetype": "text/x-python",
   "name": "python",
   "nbconvert_exporter": "python",
   "pygments_lexer": "ipython3",
   "version": "3.8.3"
  }
 },
 "nbformat": 4,
 "nbformat_minor": 4
}
